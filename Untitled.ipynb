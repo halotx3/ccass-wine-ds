{
 "cells": [
  {
   "cell_type": "markdown",
   "metadata": {},
   "source": [
    "# Wine - By the Numbers - Price / Point Compare\n",
    "\n",
    "#### Note\n",
    "* Evaluate the quality of wines to determine if tester, region, or climate impacts the score and price of the wine. "
   ]
  },
  {
   "cell_type": "code",
   "execution_count": null,
   "metadata": {},
   "outputs": [],
   "source": [
    "# Dependencies and Setup\n",
    "import matplotlib.pyplot as plt\n",
    "import pandas as pd\n",
    "import numpy as np\n",
    "import requests, gmaps, os, re, datetime\n",
    "\n",
    "# Import API key\n",
    "from api_keys import g_key"
   ]
  },
  {
   "cell_type": "code",
   "execution_count": null,
   "metadata": {},
   "outputs": [],
   "source": [
    "#Import the raw data file downloaded from https://www.kaggle.com/zynicide/wine-reviews\n",
    "wine_file = \"input/winemag-data-130k-v2.csv\"\n",
    "wine_df = pd.read_csv(wine_file)\n",
    "\n",
    "#Print the header from the dataset\n",
    "wine_df.head()"
   ]
  },
  {
   "cell_type": "code",
   "execution_count": null,
   "metadata": {},
   "outputs": [],
   "source": [
    "#Create dataframe of each Drug Regimen for anlaysis\n",
    "inf_df = Promising_Regimens_last_result.loc[Promising_Regimens_last_result[\"Drug_Regimen\"] == \"Infubinol\"][\"Tumor_Volume_(mm3)\"]\n",
    "cap_df = Promising_Regimens_last_result.loc[Promising_Regimens_last_result[\"Drug_Regimen\"] == \"Capomulin\"][\"Tumor_Volume_(mm3)\"]"
   ]
  },
  {
   "cell_type": "code",
   "execution_count": null,
   "metadata": {},
   "outputs": [],
   "source": []
  },
  {
   "cell_type": "code",
   "execution_count": null,
   "metadata": {},
   "outputs": [],
   "source": [
    "# Generate a scatter plot of mouse weight versus average tumor volume for the Capomulin regimen\n",
    "Weight_Vol_Trial_Drug = [\"Capomulin\"]\n",
    "Weight_Vol_Trial_Result = merged_df[merged_df[\"Drug_Regimen\"].isin(Weight_Vol_Trial_Drug)]\n",
    "\n",
    "#Weight_Trial = Weight_Vol_Trial_Result.Weight_(g).unique()\n",
    "Weight_Trial = merged_df.loc[merged_df[\"Drug_Regimen\"] == \"Capomulin\"][\"Weight_(g)\"].unique()\n",
    "\n",
    "\n",
    "#Average Turmor Volume\n",
    "Avg_Turmor_Trial = Weight_Vol_Trial_Result.groupby(Weight_Vol_Trial_Result[\"Weight_(g)\"])[\"Tumor_Volume_(mm3)\"].mean()\n",
    "\n",
    "\n",
    "plt.title(\"Mouse Weight to Tumor Volume\", fontsize=20)\n",
    "plt.xlabel(\"Mouse Weight\", fontsize=10)\n",
    "plt.ylabel(\"Volume of Tumor\", fontsize=10)\n",
    "plt.scatter(Weight_Trial,Avg_Turmor_Trial)\n",
    "\n",
    "plt.show()"
   ]
  }
 ],
 "metadata": {
  "kernelspec": {
   "display_name": "Python 3.8.1 64-bit ('BootCamp1': conda)",
   "language": "python",
   "name": "python38164bitbootcamp1condaaa30332a9e094a7f8241b98b0741e6a2"
  },
  "language_info": {
   "codemirror_mode": {
    "name": "ipython",
    "version": 3
   },
   "file_extension": ".py",
   "mimetype": "text/x-python",
   "name": "python",
   "nbconvert_exporter": "python",
   "pygments_lexer": "ipython3",
   "version": "3.8.1"
  }
 },
 "nbformat": 4,
 "nbformat_minor": 4
}
