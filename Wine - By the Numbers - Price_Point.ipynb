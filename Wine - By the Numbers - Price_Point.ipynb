{
 "cells": [
  {
   "cell_type": "markdown",
   "metadata": {},
   "source": [
    "# Wine - By the Numbers - Price_Point\n",
    "\n",
    "#### Note\n",
    "* Evaluate the quality of wines to determine if tester, region, or climate impacts the score and price of the wine. "
   ]
  },
  {
   "cell_type": "code",
   "execution_count": 57,
   "metadata": {},
   "outputs": [],
   "source": [
    "# Dependencies and Setup\n",
    "import matplotlib.pyplot as plt\n",
    "import pandas as pd\n",
    "import scipy.stats as st\n",
    "#import numpy as np\n",
    "#import requests, gmaps, os, re, datetime\n",
    "\n",
    "# Import API key\n",
    "#from api_keys import g_key"
   ]
  },
  {
   "cell_type": "code",
   "execution_count": 58,
   "metadata": {},
   "outputs": [
    {
     "data": {
      "text/html": [
       "<div>\n",
       "<style scoped>\n",
       "    .dataframe tbody tr th:only-of-type {\n",
       "        vertical-align: middle;\n",
       "    }\n",
       "\n",
       "    .dataframe tbody tr th {\n",
       "        vertical-align: top;\n",
       "    }\n",
       "\n",
       "    .dataframe thead th {\n",
       "        text-align: right;\n",
       "    }\n",
       "</style>\n",
       "<table border=\"1\" class=\"dataframe\">\n",
       "  <thead>\n",
       "    <tr style=\"text-align: right;\">\n",
       "      <th></th>\n",
       "      <th>country</th>\n",
       "      <th>description</th>\n",
       "      <th>points</th>\n",
       "      <th>price</th>\n",
       "      <th>province</th>\n",
       "      <th>region_1</th>\n",
       "      <th>taster_name</th>\n",
       "      <th>taster_twitter_handle</th>\n",
       "      <th>title</th>\n",
       "      <th>variety</th>\n",
       "      <th>winery</th>\n",
       "      <th>Wine_Year</th>\n",
       "    </tr>\n",
       "  </thead>\n",
       "  <tbody>\n",
       "    <tr>\n",
       "      <th>0</th>\n",
       "      <td>Italy</td>\n",
       "      <td>Aromas include tropical fruit, broom, brimston...</td>\n",
       "      <td>87</td>\n",
       "      <td>NaN</td>\n",
       "      <td>Sicily &amp; Sardinia</td>\n",
       "      <td>Etna</td>\n",
       "      <td>Kerin O’Keefe</td>\n",
       "      <td>@kerinokeefe</td>\n",
       "      <td>Nicosia 2013 Vulkà Bianco  (Etna)</td>\n",
       "      <td>White Blend</td>\n",
       "      <td>Nicosia</td>\n",
       "      <td>2013</td>\n",
       "    </tr>\n",
       "    <tr>\n",
       "      <th>1</th>\n",
       "      <td>Portugal</td>\n",
       "      <td>This is ripe and fruity, a wine that is smooth...</td>\n",
       "      <td>87</td>\n",
       "      <td>15.0</td>\n",
       "      <td>Douro</td>\n",
       "      <td>NaN</td>\n",
       "      <td>Roger Voss</td>\n",
       "      <td>@vossroger</td>\n",
       "      <td>Quinta dos Avidagos 2011 Avidagos Red (Douro)</td>\n",
       "      <td>Portuguese Red</td>\n",
       "      <td>Quinta dos Avidagos</td>\n",
       "      <td>2011</td>\n",
       "    </tr>\n",
       "    <tr>\n",
       "      <th>2</th>\n",
       "      <td>US</td>\n",
       "      <td>Tart and snappy, the flavors of lime flesh and...</td>\n",
       "      <td>87</td>\n",
       "      <td>14.0</td>\n",
       "      <td>Oregon</td>\n",
       "      <td>Willamette Valley</td>\n",
       "      <td>Paul Gregutt</td>\n",
       "      <td>@paulgwine</td>\n",
       "      <td>Rainstorm 2013 Pinot Gris (Willamette Valley)</td>\n",
       "      <td>Pinot Gris</td>\n",
       "      <td>Rainstorm</td>\n",
       "      <td>2013</td>\n",
       "    </tr>\n",
       "    <tr>\n",
       "      <th>3</th>\n",
       "      <td>US</td>\n",
       "      <td>Pineapple rind, lemon pith and orange blossom ...</td>\n",
       "      <td>87</td>\n",
       "      <td>13.0</td>\n",
       "      <td>Michigan</td>\n",
       "      <td>Lake Michigan Shore</td>\n",
       "      <td>Alexander Peartree</td>\n",
       "      <td>NaN</td>\n",
       "      <td>St. Julian 2013 Reserve Late Harvest Riesling ...</td>\n",
       "      <td>Riesling</td>\n",
       "      <td>St. Julian</td>\n",
       "      <td>2013</td>\n",
       "    </tr>\n",
       "    <tr>\n",
       "      <th>4</th>\n",
       "      <td>US</td>\n",
       "      <td>Much like the regular bottling from 2012, this...</td>\n",
       "      <td>87</td>\n",
       "      <td>65.0</td>\n",
       "      <td>Oregon</td>\n",
       "      <td>Willamette Valley</td>\n",
       "      <td>Paul Gregutt</td>\n",
       "      <td>@paulgwine</td>\n",
       "      <td>Sweet Cheeks 2012 Vintner's Reserve Wild Child...</td>\n",
       "      <td>Pinot Noir</td>\n",
       "      <td>Sweet Cheeks</td>\n",
       "      <td>2012</td>\n",
       "    </tr>\n",
       "  </tbody>\n",
       "</table>\n",
       "</div>"
      ],
      "text/plain": [
       "    country                                        description  points  price  \\\n",
       "0     Italy  Aromas include tropical fruit, broom, brimston...      87    NaN   \n",
       "1  Portugal  This is ripe and fruity, a wine that is smooth...      87   15.0   \n",
       "2        US  Tart and snappy, the flavors of lime flesh and...      87   14.0   \n",
       "3        US  Pineapple rind, lemon pith and orange blossom ...      87   13.0   \n",
       "4        US  Much like the regular bottling from 2012, this...      87   65.0   \n",
       "\n",
       "            province             region_1         taster_name  \\\n",
       "0  Sicily & Sardinia                 Etna       Kerin O’Keefe   \n",
       "1              Douro                  NaN          Roger Voss   \n",
       "2             Oregon    Willamette Valley        Paul Gregutt   \n",
       "3           Michigan  Lake Michigan Shore  Alexander Peartree   \n",
       "4             Oregon    Willamette Valley        Paul Gregutt   \n",
       "\n",
       "  taster_twitter_handle                                              title  \\\n",
       "0          @kerinokeefe                  Nicosia 2013 Vulkà Bianco  (Etna)   \n",
       "1            @vossroger      Quinta dos Avidagos 2011 Avidagos Red (Douro)   \n",
       "2           @paulgwine       Rainstorm 2013 Pinot Gris (Willamette Valley)   \n",
       "3                   NaN  St. Julian 2013 Reserve Late Harvest Riesling ...   \n",
       "4           @paulgwine   Sweet Cheeks 2012 Vintner's Reserve Wild Child...   \n",
       "\n",
       "          variety               winery  Wine_Year  \n",
       "0     White Blend              Nicosia       2013  \n",
       "1  Portuguese Red  Quinta dos Avidagos       2011  \n",
       "2      Pinot Gris            Rainstorm       2013  \n",
       "3        Riesling           St. Julian       2013  \n",
       "4      Pinot Noir         Sweet Cheeks       2012  "
      ]
     },
     "execution_count": 58,
     "metadata": {},
     "output_type": "execute_result"
    }
   ],
   "source": [
    "#Import the raw data file downloaded from https://www.kaggle.com/zynicide/wine-reviews\n",
    "clean_wine_file = \"Output/wine_cleaned.csv\"\n",
    "clean_wine_df = pd.read_csv(clean_wine_file)\n",
    "\n",
    "#Print the header from the dataset\n",
    "clean_wine_df.head()"
   ]
  },
  {
   "cell_type": "code",
   "execution_count": 59,
   "metadata": {},
   "outputs": [],
   "source": [
    "#Remove data when the country or province data is blank\n",
    "wine_drop_price = clean_wine_df.dropna(subset=['points', 'price'])"
   ]
  },
  {
   "cell_type": "code",
   "execution_count": 60,
   "metadata": {},
   "outputs": [],
   "source": [
    "#Create dataframe to evaluate point and price comparison\n",
    "points_wine = wine_drop_price['points']\n",
    "price_wine = wine_drop_price['price']"
   ]
  },
  {
   "cell_type": "code",
   "execution_count": 61,
   "metadata": {},
   "outputs": [
    {
     "name": "stdout",
     "output_type": "stream",
     "text": [
      "The lower quartile of the points is: 86.0\n",
      "The upper quartile of the points is: 91.0\n",
      "The interquartile range of the points are: 5.0\n",
      "Lower Outliers 0\n",
      "Upper Outliers 47\n",
      "There are 47 outliers in the points data.\n"
     ]
    }
   ],
   "source": [
    "# Calculate the IQR and quantitatively determine if there are any potential outliers. \n",
    "quartiles_points = points_wine.quantile([.25,.5,.75])\n",
    "lowerq_points = quartiles_points[0.25]\n",
    "upperq_points = quartiles_points[0.75]\n",
    "iqr_points = upperq_points-lowerq_points\n",
    "\n",
    "print(f\"The lower quartile of the points is: {lowerq_points}\")\n",
    "print(f\"The upper quartile of the points is: {upperq_points}\")\n",
    "print(f\"The interquartile range of the points are: {iqr_points}\")\n",
    "\n",
    "lower_bound_points = lowerq_points - (1.5*iqr_points)\n",
    "upper_bound_points = upperq_points + (1.5*iqr_points)\n",
    "\n",
    "lower_outliers_points = points_wine[points_wine < lower_bound_points].count()\n",
    "upper_outliers_points = points_wine[points_wine > upper_bound_points].count()\n",
    "total_outliers_points = lower_outliers_points + upper_outliers_points\n",
    "\n",
    "print(f\"Lower Outliers {lower_outliers_points}\")\n",
    "print(f\"Upper Outliers {upper_outliers_points}\")\n",
    "print(f\"There are {total_outliers_points} outliers in the points data.\")"
   ]
  },
  {
   "cell_type": "code",
   "execution_count": 62,
   "metadata": {},
   "outputs": [
    {
     "data": {
      "image/png": "[encoded data removed]",
      "text/plain": [
       "<Figure size 432x288 with 1 Axes>"
      ]
     },
     "metadata": {
      "needs_background": "light"
     },
     "output_type": "display_data"
    }
   ],
   "source": [
    "# Generate a box plot of the point value of the wine\n",
    "fig1, ax1 = plt.subplots()\n",
    "ax1.set_title('Points Values and Outliers')\n",
    "ax1.set_ylabel('Point Value of Wine')\n",
    "plt.boxplot([points_wine])\n",
    "plt.show() "
   ]
  },
  {
   "cell_type": "code",
   "execution_count": 63,
   "metadata": {},
   "outputs": [
    {
     "name": "stdout",
     "output_type": "stream",
     "text": [
      "The lower quartile of the Infubinol trials is: 17.0\n",
      "The upper quartile of the Infubinol trials is: 42.0\n",
      "The interquartile range of the Infubinol trials is: 25.0\n",
      "Lower Outliers 0\n",
      "Upper Outliers 7241\n",
      "There are 7241 outliers in the price data.\n"
     ]
    }
   ],
   "source": [
    "quartiles_price = price_wine.quantile([.25,.5,.75])\n",
    "lowerq_price = quartiles_price[0.25]\n",
    "upperq_price = quartiles_price[0.75]\n",
    "iqr_price = upperq_price-lowerq_price\n",
    "\n",
    "print(f\"The lower quartile of the Infubinol trials is: {lowerq_price}\")\n",
    "print(f\"The upper quartile of the Infubinol trials is: {upperq_price}\")\n",
    "print(f\"The interquartile range of the Infubinol trials is: {iqr_price}\")\n",
    "\n",
    "lower_bound_price = lowerq_price - (1.5*iqr_price)\n",
    "upper_bound_price = upperq_price + (1.5*iqr_price)\n",
    "\n",
    "lower_outliers_price = price_wine[price_wine < lower_bound_price].count()\n",
    "upper_outliers_price = price_wine[price_wine > upper_bound_price].count()\n",
    "total_outliers_price = lower_outliers_price + upper_outliers_price\n",
    "\n",
    "print(f\"Lower Outliers {lower_outliers_price}\")\n",
    "print(f\"Upper Outliers {upper_outliers_price}\")\n",
    "print(f\"There are {total_outliers_price} outliers in the price data.\")"
   ]
  },
  {
   "cell_type": "code",
   "execution_count": 64,
   "metadata": {},
   "outputs": [
    {
     "data": {
      "image/png": "[encoded data removed]",
      "text/plain": [
       "<Figure size 432x288 with 1 Axes>"
      ]
     },
     "metadata": {
      "needs_background": "light"
     },
     "output_type": "display_data"
    }
   ],
   "source": [
    "# Generate a box plot of the point value of the wine\n",
    "fig1, ax1 = plt.subplots()\n",
    "ax1.set_title('Price of Wines and Outliers')\n",
    "ax1.set_ylabel('Price of Wine')\n",
    "plt.boxplot([price_wine])\n",
    "plt.show() "
   ]
  },
  {
   "cell_type": "code",
   "execution_count": 65,
   "metadata": {},
   "outputs": [
    {
     "name": "stdout",
     "output_type": "stream",
     "text": [
      "There were 42 wines removed with a print more than $750\n"
     ]
    }
   ],
   "source": [
    "max_price = 750\n",
    "print(f\"There were {price_wine[price_wine > max_price].count()} wines removed with a print more than ${max_price}\")\n",
    "\n",
    "wine_drop_price = wine_drop_price[wine_drop_price['price'] < max_price]"
   ]
  },
  {
   "cell_type": "code",
   "execution_count": 69,
   "metadata": {},
   "outputs": [
    {
     "name": "stdout",
     "output_type": "stream",
     "text": [
      "The correlation between points and price is 0.48\n"
     ]
    },
    {
     "data": {
      "image/png": "[encoded data removed]",
      "text/plain": [
       "<Figure size 432x288 with 1 Axes>"
      ]
     },
     "metadata": {
      "needs_background": "light"
     },
     "output_type": "display_data"
    }
   ],
   "source": [
    "plt.title(\"Wine Points to Price Comparison\", fontsize=20)\n",
    "plt.xlabel(\"Wine Point Value\", fontsize=10)\n",
    "plt.ylabel(\"Wine Price\", fontsize=10)\n",
    "points_wine = wine_drop_price['points']\n",
    "price_wine = wine_drop_price['price']\n",
    "\n",
    "correlation = st.pearsonr(points_wine,price_wine)\n",
    "(slope, intercept, rvalue, pvalue, stderr) = st.linregress(points_wine.astype(float), price_wine.astype(float))\n",
    "regress_values = points_wine * slope + intercept\n",
    "line_eq = \"y = \" + str(round(slope,2)) + \"x + \" + str(round(intercept,2))\n",
    "\n",
    "\n",
    "plt.scatter(points_wine,price_wine)\n",
    "plt.plot(points_wine,regress_values,\"r-\")\n",
    "plt.annotate(line_eq,(81.5,500),fontsize=10,color=\"red\")\n",
    "\n",
    "print(f\"The correlation between points and price is {round(correlation[0],2)}\")\n",
    "plt.show()"
   ]
  },
  {
   "cell_type": "code",
   "execution_count": null,
   "metadata": {},
   "outputs": [],
   "source": [
    "#"
   ]
  }
 ],
 "metadata": {
  "kernelspec": {
   "display_name": "Python 3.8.1 64-bit ('BootCamp1': conda)",
   "language": "python",
   "name": "python38164bitbootcamp1condaaa30332a9e094a7f8241b98b0741e6a2"
  },
  "language_info": {
   "codemirror_mode": {
    "name": "ipython",
    "version": 3
   },
   "file_extension": ".py",
   "mimetype": "text/x-python",
   "name": "python",
   "nbconvert_exporter": "python",
   "pygments_lexer": "ipython3",
   "version": "3.8.1"
  }
 },
 "nbformat": 4,
 "nbformat_minor": 4
}
